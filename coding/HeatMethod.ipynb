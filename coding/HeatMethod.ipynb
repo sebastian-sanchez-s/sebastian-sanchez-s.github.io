{
 "cells": [
  {
   "cell_type": "markdown",
   "id": "47cfe7b9-dc5e-42dc-9b9c-070975159c87",
   "metadata": {},
   "source": [
    "# The heat method for distance computation\n",
    "\n",
    "In this notebook we implement the heat method shown in (Crane, Weischedel and Wardetzky, 2017) for triangle meshes."
   ]
  },
  {
   "cell_type": "code",
   "execution_count": 1,
   "id": "50a60494-c957-4bc9-9f36-40a959f28784",
   "metadata": {
    "tags": []
   },
   "outputs": [],
   "source": [
    "import pyvista as pv\n",
    "pv.set_jupyter_backend('static')\n",
    "\n",
    "import numpy as np\n",
    "from scipy.sparse import lil_matrix, identity\n",
    "import scipy.sparse.linalg as spla\n",
    "\n",
    "import matplotlib.pyplot as plt"
   ]
  },
  {
   "cell_type": "code",
   "execution_count": 2,
   "id": "09461be1-2ea7-42c1-bfbf-f32d0a3053e5",
   "metadata": {
    "tags": []
   },
   "outputs": [
    {
     "name": "stdout",
     "output_type": "stream",
     "text": [
      "# Nodes  : (1845, 3)\n",
      "# Faces  : (3686, 3)\n",
      "# Normals: (3686, 3)\n",
      "# avgh   : 3.472326\n"
     ]
    }
   ],
   "source": [
    "MAX_FACES = 15_000\n",
    "\n",
    "#  Mesh from https://www.thingiverse.com/thing:6703649/files\n",
    "mesh = pv.PolyData('resources/3D_models/blue_whale/files/ballena_azul_Lowpoly.stl')\n",
    "\n",
    "num_faces = len(mesh.faces) // 4\n",
    "\n",
    "if num_faces > MAX_FACES:\n",
    "    mesh = mesh.decimate(1.0 - (MAX_FACES / num_faces))\n",
    "    print('Decimated mesh, from ', num_faces, 'faces to', len(mesh.faces)//4, 'faces')\n",
    "\n",
    "nodes = mesh.points\n",
    "triangles = np.delete(mesh.faces.reshape(-1, 4), 0, 1)\n",
    "normals = mesh.compute_normals()['Normals']\n",
    "\n",
    "avg_h = 0.0\n",
    "for face in triangles:\n",
    "    x,y,z = nodes[face]\n",
    "    avg_h += sum([np.linalg.norm(y-x), np.linalg.norm(z-x), np.linalg.norm(y-z)])\n",
    "\n",
    "avg_h = avg_h / (3*len(triangles))\n",
    "\n",
    "print('# Nodes  :', nodes.shape)\n",
    "print('# Faces  :', triangles.shape)\n",
    "print('# Normals:', normals.shape) \n",
    "print('# avgh   :', avg_h)\n",
    "\n",
    "normals_field = pv.vector_poly_data([np.mean(nodes[T], axis=0) for T in triangles], normals)\n",
    "\n",
    "def save(filename, mesh, **kwargs):\n",
    "    pl = pv.Plotter()\n",
    "    pl.add_mesh(mesh, **kwargs)\n",
    "    pl.save_graphic(filename)\n",
    "    return pl"
   ]
  },
  {
   "cell_type": "code",
   "execution_count": 3,
   "id": "f1da3cfb-60f3-42a9-8e32-7e4158364ab0",
   "metadata": {},
   "outputs": [],
   "source": [
    "save('images/heat_method_mesh.svg', mesh);\n",
    "save('images/heat_method_normals.svg', normals_field.glyph(orient='vectors', scale='mag'));\n",
    "#  mesh.plot()"
   ]
  },
  {
   "cell_type": "markdown",
   "id": "2cccf361-5edb-4db2-abb5-17ff1d7b1d70",
   "metadata": {},
   "source": [
    "<img src=\"images/heat_method_mesh.svg\"></img>\n",
    "\n",
    "<img src=\"images/heat_method_normals.svg\"></img>"
   ]
  },
  {
   "cell_type": "code",
   "execution_count": 4,
   "id": "f0a12008-02e8-4818-aa56-ae59d5e14803",
   "metadata": {
    "tags": []
   },
   "outputs": [],
   "source": [
    "from mesh_operators import laplace_matrix"
   ]
  },
  {
   "cell_type": "code",
   "execution_count": 5,
   "id": "3ef26774-e9fb-4dcd-ab40-c9a297c7f8db",
   "metadata": {
    "tags": []
   },
   "outputs": [],
   "source": [
    "L, M = laplace_matrix(nodes, triangles)"
   ]
  },
  {
   "cell_type": "markdown",
   "id": "9b4836e6-e815-42f6-9d88-3122559bc7dd",
   "metadata": {},
   "source": [
    "## Steady State Heat Equation\n",
    "\n",
    "Let $\\Omega$ be a compact closed orientable surface in $\\mathbb{R}^3$. Suppose that heat source $f$ is acting on $\\Omega$. The heat $u(t,x)$ at time $t$ at $x\\in\\Omega$ can be describe with the following equation:\n",
    "$$\n",
    "    \\dot u(t,x) - \\Delta u(t,x) = f(t, x) \\qquad t > 0\n",
    "$$\n",
    "where an initial condition $u(0,x)$ must be given. This is the heat equation and its steady states corresponds to $\\dot u(t,x) = 0$."
   ]
  },
  {
   "cell_type": "code",
   "execution_count": 6,
   "id": "22fdce3f-65c6-4beb-8d50-17a435dc7649",
   "metadata": {
    "tags": []
   },
   "outputs": [],
   "source": [
    "default_cmap = plt.get_cmap('seismic')\n",
    "\n",
    "source_indices = [np.argmax(nodes[:, 0]), np.argmax(nodes[:, 0] + nodes[:, 1])]\n",
    "source_field = np.zeros(len(nodes))\n",
    "source_field[source_indices] = [(-1)**i for i in range(len(source_indices))]\n",
    "\n",
    "vmax = np.max(source_field)\n",
    "vmin = np.min(source_field)\n",
    "\n",
    "save('images/heat_method_sources.svg', mesh, scalars=source_field, clim=[vmin, vmax], cmap=default_cmap);\n",
    "#  mesh.plot(scalars=source_field, clim=[vmin, vmax], cmap=default_cmap)"
   ]
  },
  {
   "cell_type": "markdown",
   "id": "60b7c695-4c66-4e93-a611-94b5c0ed372b",
   "metadata": {},
   "source": [
    "<img src=\"images/heat_method_sources.svg\"></img>"
   ]
  },
  {
   "cell_type": "code",
   "execution_count": 7,
   "id": "e5837866-46de-49d4-b7ec-abf11600d4e5",
   "metadata": {
    "tags": []
   },
   "outputs": [],
   "source": [
    "steady_heat = -spla.spsolve(L.tocsr(), M @ source_field)"
   ]
  },
  {
   "cell_type": "code",
   "execution_count": 8,
   "id": "e931adc3-b2f0-4df5-9fec-b946aa036784",
   "metadata": {
    "slideshow": {
     "slide_type": ""
    },
    "tags": []
   },
   "outputs": [],
   "source": [
    "save('images/heat_method_steady_heat.svg', mesh, scalars=steady_heat, cmap=default_cmap);\n",
    "#  mesh.plot(scalars=steady_heat, cmap=default_cmap)"
   ]
  },
  {
   "cell_type": "markdown",
   "id": "d545263b-c5b3-4ca9-9db9-3e222abe22a1",
   "metadata": {},
   "source": [
    "<img src=\"images/heat_method_steady_heat.svg\"></img>"
   ]
  },
  {
   "cell_type": "markdown",
   "id": "48fcc096-80d0-4ae9-835c-8be18d939ef0",
   "metadata": {},
   "source": [
    "# Heat Equation and Geodesics\n",
    "\n",
    "Let $\\Gamma$ be a closed subset of $\\Omega$.. We are interested in the geodesic field generated by $\\Gamma$. That is, we seek for a function $\\phi\\colon\\Omega\\to\\mathbb{R}$ such that $\\phi(x) = \\text{distance}(x,\\Gamma)$ where the distance is computed over the surface $\\Omega$. The nonlinear pde describing $\\phi$ reads as follow:\n",
    "$$\n",
    "\\left\\{\n",
    "\\begin{aligned}\n",
    "    |\\nabla \\phi| &= 1 &&, \\text{ on } \\Omega\\setminus\\Gamma \\\\\n",
    "    \\phi &= 0 &&, \\text{ over } \\Gamma\n",
    "\\end{aligned}\n",
    "\\right.\n",
    "$$\n",
    "And it's known as the **eikonal equational**. Nonlinear problems are not easy to solve. The heat method proposes an approach inspired by physics: heat flow first along paths of maximum conductivity i.e. the shortest paths. Let's think of $\\Gamma$ as a heat source, then the very first seconds of dissipitation will encode the shortest paths of any point to $\\Gamma$. This was observation was made by field medalist [Srinavasa Varadhan](https://en.wikipedia.org/wiki/S._R._Srinivasa_Varadhan). The relationship between heat flow and geodesics, which is obtained by solving for the distance in the formula for the fundamental solution $h_t$ of the heat equation, reads:\n",
    "$$\n",
    "    d(x,y) = \\sqrt{-4 \\lim_{t\\to 0} t \\log h_t(x,y)}\n",
    "    \\tag{V}\n",
    "$$\n",
    "where $h_t$ solves the solves:\n",
    "$$\n",
    "\\left\\{\n",
    "\\begin{aligned}\n",
    "    \\dot{h}_{t}(x,\\cdot) &= \\Delta h_{t}(x,\\cdot) &&, \\qquad t> 0 \\\\\n",
    "    \\lim_{t\\to 0} h_t(x,\\cdot) &= \\delta_x(\\cdot)\n",
    "\\end{aligned}\n",
    "\\right.\n",
    "\\tag{F}\n",
    "$$\n",
    "So $h_t(x,\\cdot)$ gives us the heat distribution at time $t$ when inducing unit heat from a point source $x\\in\\Omega$. The objective now is to solve the heat equation for short times and build the distance from there.\n",
    "\n",
    "The limit in Varadhan relationship is not looking good from a discretization point of view. What is really useful about this relation\n",
    "is that the distance field and the heat kernel are somewhat proportional. Meaning that both fields (for small $t$) have the same directional flow. So we will actually solve for the heat equation and perform a posteriori adjustment in order to obtain an approximation of the geodesic field.\n",
    "\n",
    "Let $X(\\cdot)$ be the normalize flow of the heat kernel $h_t$, that we know from Varadhan's relationships, is equal to the geodesic flow. We'll look for an approximation of the geodesic field $\\phi$ such that minimizes the energy\n",
    "$$\n",
    "    \\frac{1}{2} \\int (\\nabla \\phi - X)^2,\n",
    "$$\n",
    "which yields the Euler-Lagrange equations $\\Delta \\phi = \\nabla\\cdot X$. Once found $\\phi$, we need to perform a correction such that $\\phi$ vanishes on $\\Gamma$.\n",
    "\n",
    "In order to solve (F), we discretized $\\Delta$ using the discrete cotan Laplacian and backward Euler step for time ($\\dot{h}_t \\approx (h_t - h_0)/t$). Then,\n",
    "$$\n",
    "    \\dot h_t (x,\\cdot) = \\Delta h_t(x,\\cdot)\n",
    "    \\approx\n",
    "    h_t - h_0 = tL h_t(x,\\cdot)\n",
    "    \\iff\n",
    "    (I-tL) h_t = h_0,\n",
    "$$\n",
    "where $h_0 = \\delta_x$ is a point source. In the same paper, Varadhan's extends the relationship~(V) to hold for sets like $\\Gamma$.\n",
    "Therefore, we end up with:\n",
    "$$\n",
    "    (I-tL) u_t = \\delta_{\\Gamma}.\n",
    "$$\n",
    "\n",
    "**The heat method algorithm**:\n",
    "1. Compute the solution $u_t$ for an appropiate small $t$.\n",
    "2. Normalized the direction field. That is, set $X = -\\nabla u_t / \\lvert{\\nabla u_t}\\rvert$.\n",
    "3. Solve the poisson equation $\\Delta \\phi = \\nabla \\cdot X$."
   ]
  },
  {
   "cell_type": "code",
   "execution_count": 9,
   "id": "73df9e09-e9b6-48a4-8e99-4e3d2a4a9b9a",
   "metadata": {
    "tags": []
   },
   "outputs": [],
   "source": [
    "def geodesic_field(\n",
    "    nodes: list, triangles: list, normals: list,\n",
    "    Gamma: list, \n",
    "    L,\n",
    "    t: float) -> list:\n",
    "    '''\n",
    "    Input:\n",
    "        - nodes : list of 3-vectors. Represent the nodes in the mesh.\n",
    "        - triangles : list of 3-list. Each 3-list contains the indices in nodes that conform\n",
    "        that triangle.\n",
    "        - Gamma : list of nodes (indices). For a point x, the distance is computed between\n",
    "                x and Gamma.\n",
    "    Ouput:\n",
    "        - The list of nodes with the value of the distance field.\n",
    "    '''\n",
    "    from mesh_operators import div, grad_matrix\n",
    "    # 1. Compute heat flow\n",
    "    rhs = np.zeros(len(nodes))\n",
    "    rhs[Gamma] = 1.0\n",
    "    \n",
    "    u = spla.spsolve((identity(len(nodes)) - t*L.tocsr()), rhs)\n",
    "    save('images/heat_method_ut.svg', mesh);\n",
    "    #  mesh.plot(scalars=u, text=r'$u_t$ for small $t$')\n",
    "    \n",
    "    # 2. Normalized flow\n",
    "    grad_mat = grad_matrix(nodes, triangles, normals)\n",
    "    grad_u = np.array([mat @ u[T] for mat,T in  zip(grad_mat, triangles)])\n",
    "    X = -np.array([v/np.linalg.norm(v) for v in grad_u])\n",
    "    \n",
    "    grad_field = pv.vector_poly_data([np.mean(nodes[T],axis=0) for T in triangles], [x/np.linalg.norm(x) for x in X])\n",
    "    #  grad_field.glyph(orient='vectors', scale='mag').plot(text='X=-normalized(grad u_t)')\n",
    "    save('images/heat_method_grad_field.svg', grad_field.glyph(orient='vectors', scale='mag')); \n",
    "    \n",
    "    divX = div(nodes, triangles, normals, X)\n",
    "    #  mesh.plot(scalars=divX, text='Divergence of X')\n",
    "    save('images/heat_method_div_field.svg', mesh, scalars=divX);\n",
    "    \n",
    "    # 3. Solve Poisson equation to get the actual distances (this came from the minimization problem)\n",
    "    phi = spla.spsolve(L.tocsr(), divX)\n",
    "    return phi-np.min(phi)"
   ]
  },
  {
   "cell_type": "code",
   "execution_count": 10,
   "id": "9e06ef16-8298-4787-9766-b9c7330e90a9",
   "metadata": {
    "tags": []
   },
   "outputs": [],
   "source": [
    "dist = geodesic_field(nodes, triangles, normals, source_indices, L, t=avg_h**2) "
   ]
  },
  {
   "cell_type": "code",
   "execution_count": 11,
   "id": "262cdf41-aeae-46eb-bd25-c595e242a20c",
   "metadata": {
    "tags": []
   },
   "outputs": [],
   "source": [
    "geod_cmap = plt.get_cmap('prism_r')\n",
    "save('images/heat_method_geodesic.svg', mesh, scalars=dist, cmap=geod_cmap);\n",
    "#  mesh.plot(scalars=dist, cmap=geod_cmap)"
   ]
  },
  {
   "cell_type": "markdown",
   "id": "24fd27de-f865-46e9-b4f0-494021ef624c",
   "metadata": {},
   "source": [
    "<img src=\"images/heat_method_geodesic.svg\"></img>"
   ]
  },
  {
   "cell_type": "markdown",
   "id": "af881244-2b89-46b9-9859-04935db140cd",
   "metadata": {},
   "source": [
    "# References\n",
    "* Crane, K., Weischedel, C. and Wardetzky, M., 2017. The heat method for distance computation. Communications of the ACM, 60(11), pp.90-99. Available at: https://www.cs.cmu.edu/~kmcrane/Projects/HeatMethod/ (Accessed: 9 May 2025)"
   ]
  },
  {
   "cell_type": "code",
   "execution_count": null,
   "id": "5a13e838-6198-407f-83c5-0d8d5b0571b1",
   "metadata": {},
   "outputs": [],
   "source": []
  }
 ],
 "metadata": {
  "kernelspec": {
   "display_name": "Python 3 (ipykernel)",
   "language": "python",
   "name": "python3"
  },
  "language_info": {
   "codemirror_mode": {
    "name": "ipython",
    "version": 3
   },
   "file_extension": ".py",
   "mimetype": "text/x-python",
   "name": "python",
   "nbconvert_exporter": "python",
   "pygments_lexer": "ipython3",
   "version": "3.12.7"
  },
  "toc-autonumbering": false,
  "toc-showcode": false,
  "toc-showmarkdowntxt": false
 },
 "nbformat": 4,
 "nbformat_minor": 5
}
