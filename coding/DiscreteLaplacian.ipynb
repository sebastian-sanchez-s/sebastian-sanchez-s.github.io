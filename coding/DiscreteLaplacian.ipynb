{
 "cells": [
  {
   "cell_type": "markdown",
   "id": "32024c84-26b1-478f-864c-95bd05f84ce0",
   "metadata": {},
   "source": [
    "# Discrete Laplacian\n",
    "\n",
    "This notebook is the solution and implementation to some problems in (Crane, 2018).\n",
    "\n",
    "Let $M$ be closed compact and oriented surface in $\\mathbb{R}^3$. Let $K$ be a triangulation of $M$, such that every angle is acute; and enumerate the vertex set of $K$ with $\\lbrace 0, \\ldots, \\lvert{K}\\rvert\\rbrace$.\n",
    "\n",
    "The Laplace-Beltrami $-\\Delta$ is given as\n",
    "$$\n",
    "    -\\Delta u = -\\nabla \\cdot (\\nabla u) \\colon H^1 \\to H^{-1}\n",
    "$$\n",
    "where $\\nabla\\cdot$ and $\\nabla$ are the divergence and gradient operator over the physical domain, respectively. $H^1$ denote the space of $L^2$-weak differentiable functions over the domain and $H^{-1}$ its dual.\n",
    "\n",
    "## A formulation of $\\Delta$ using FEM\n",
    "\n",
    "Let $N_j$ be the hat function that gets the value of $1$ at node/vertex $j$ and $0$ on its neighbors. \n",
    "The action of the laplacian on every $N_j$ gives us the value of the laplacian at node $j$. Therefore, we are interested in the vector\n",
    "$$\n",
    "    \\mathbf{U} \n",
    "    = \n",
    "    (\\langle \\Delta u, N_0 \\rangle, \\langle \\Delta u, N_1 \\rangle, \\ldots, \\langle \\Delta u, N_{\\lvert K\\rvert} \\rangle).\n",
    "$$\n",
    "Using integration by parts and the divergence theorem in each element we get:\n",
    "$$\n",
    "\\begin{aligned}\n",
    "    \\langle \\Delta u, N_j \\rangle \n",
    "    &=\n",
    "    \\sum_{T\\colon j\\in T} \\langle \\Delta u, N_j \\rangle_{T}\n",
    "    \\\\&=\n",
    "    \\sum_{T\\colon j\\in T} \\langle \\nabla u, \\nabla N_j\\rangle + \\langle \\mathbf{n} \\cdot \\nabla u, N_j\\rangle_{\\partial T},\n",
    "\\end{aligned}\n",
    "$$\n",
    "where $\\mathbf{n}$ is the outward normal of the triangle involve, and the sum runs for all triangles in the mesh. Observe that\n",
    "$$\n",
    "    \\sum_{T\\colon j\\in T} \\langle \\mathbf{n} \\cdot \\nabla u, N_j\\rangle_{\\partial T}\n",
    "    =\n",
    "    \\sum_{e\\in\\text{Edges}} \\langle \\mathbf{n}\\cdot\\nabla u, N_j\\rangle_{e} - \\langle \\mathbf{n}\\cdot\\nabla u, N_j\\rangle_{e}\n",
    "    = 0.\n",
    "$$\n",
    "All together, the action of the Laplace-Beltrami operator reads:\n",
    "$$\n",
    "    \\langle \\Delta u, N_j \\rangle = \\sum_{T\\colon j\\in T} \\langle \\nabla u, \\nabla N_j\\rangle_{T}.\n",
    "$$\n",
    "Discretizing $u = \\sum_{i=0}^{\\lvert{K}\\rvert} u_i N_i$ we get that:\n",
    "$$\n",
    "    \\langle \\nabla u, \\nabla N_j\\rangle_{T}\n",
    "    =\n",
    "    \\sum_{i=0}^{\\lvert K \\rvert} u_i \\langle \\nabla N_i, \\nabla N_j\\rangle_{T}\n",
    "    =\n",
    "    \\sum_{i\\in T} u_i \\langle \\nabla N_i, \\nabla N_j \\rangle_T.\n",
    "$$\n",
    "Therefore, the action of the Laplace-Beltrami operator on each shape function reads:\n",
    "$$\n",
    "    \\langle \\Delta u, N_j \\rangle\n",
    "    =\n",
    "    \\sum_{T\\colon j\\in T} \\langle \\nabla u, \\nabla N_j\\rangle_{T}\n",
    "    =\n",
    "    \\sum_{T\\colon j\\in T} \\sum_{i\\in T} u_i \\langle \\nabla N_i, \\nabla N_j\\rangle_{T}.\n",
    "$$\n",
    "This sum runs for all triangles and all vertex in those triangles. We can rearrange it by taking the sum over all neighbors $i$ of $j$ and compute the action for the two triangles adyacent to the edge $ij$; for the case $i=j$ we need to account for every triangle containing $j$ and compute the action there. In all, we have the following expression.\n",
    "$$\n",
    "    \\langle \\Delta u, N_j \\rangle\n",
    "    =\n",
    "    \\sum_{i\\in N(j)} u_i \n",
    "        \\left(\n",
    "        \\langle \\nabla N_i, \\nabla N_j\\rangle_{T_i}\n",
    "        + \n",
    "        \\langle \\nabla N_i, \\nabla N_j\\rangle_{T_i'}\n",
    "        \\right)\n",
    "    +\n",
    "    \\sum_{T\\colon j\\in T}\n",
    "        u_j \\langle \\nabla N_j, \\nabla N_j\\rangle_{T}.\n",
    "$$\n",
    "Summarizing:\n",
    "$$\n",
    "    \\mathbf{U}_{j} =\n",
    "        \\sum_{i\\in N(j)} \n",
    "        \\left(\n",
    "        \\langle \\nabla N_i, \\nabla N_j\\rangle_{T_i}\n",
    "        + \n",
    "        \\langle \\nabla N_i, \\nabla N_j\\rangle_{T_i'}\n",
    "        \\right)\n",
    "        +\n",
    "        \\sum_{T\\colon j\\in T}\n",
    "        \\langle \\nabla N_j, \\nabla N_j\\rangle_{T}.\n",
    "$$\n",
    "\n",
    "## Computing $\\mathbf{U}$\n",
    "\n",
    "In order to compute $\\mathbf{U}$, we need to compute two kind of inner products:\n",
    "\n",
    "1. $\\langle \\nabla N_i, \\nabla N_j \\rangle_{T}$ for $i\\ne j$\n",
    "2. $\\langle \\nabla N_i, \\nabla N_i \\rangle_{T}$.\n",
    "\n",
    "Let's start by computing $\\nabla N_i$, since we need it for all computations. Let $e$ be the edge opposite to $i$ in the triangle \n",
    "$T$. Since $N_i$ is linear, its gradient is a constant vector. Given that $N_i$ vanishes over $e$ and increases linearly until the value $1$ at node $i$, we may conclude that\n",
    "$$\n",
    "    \\nabla N_i = - \\frac{1}{h} \\mathbf{n}_i,\n",
    "$$\n",
    "where $\\mathbf{n}_i$ is the outward unit normal to $T$ at $e$ and $h$ is the height of the triangle measured from $e$ to $i$.\n",
    "Let $b$ denote the length of $e$. Then, $|T| = \\frac{1}{2} hb$. Solving for $h$ and substituting in the equation above yields:\n",
    "$$\n",
    "    \\nabla N_i = -\\frac{b}{2|T|} \\mathbf{n}_i.\n",
    "$$\n",
    "\n",
    "**1.** Let $i$ and $j$ be neighboring vertex. Then, \n",
    "$$\n",
    "    (\\nabla N_i, \\nabla N_j)\n",
    "    =\n",
    "    \\frac{b_i b_j}{4 |T|^2} \\int_{T} \\mathbf{n}_i \\cdot \\mathbf{n}_j\n",
    "    =\n",
    "    - \\frac{b_i b_i}{4 |T|} \\cos(\\theta_{ij}),\n",
    "$$\n",
    "where $\\theta_{ij}$ is the angle between $\\mathbf{n}_i$ and $\\mathbf{n}_j$. The minus sign is a consequence of the acute angle requirement (the reader is invited to draw). Given that $2|T| = b_i b_j\\sin(\\theta_{ij})$ the expression simplifies to:\n",
    "$$\n",
    "    \\langle \\nabla N_i, \\nabla N_j \\rangle_{T}\n",
    "    =\n",
    "    -\\frac{1}{2} \\cot(\\theta_{ij}).\n",
    "$$\n",
    "\n",
    "**2.** Let's compute it directly, with the same notation as above:\n",
    "$$\n",
    "    (\\nabla N_i, \\nabla N_i)\n",
    "    =\n",
    "    \\frac{b^2}{4 |T|} |T|\n",
    "    =\n",
    "    \\frac{b}{2 h}\n",
    "    =\n",
    "    \\frac{1}{2} (\\cot \\alpha_i + \\cot \\alpha_j),\n",
    "$$\n",
    "where the last inequality follows from $2|T| = bh$ and the identity $b/h = \\cot\\alpha_i + \\cot\\beta_i$. Here's a short proof of the identity: Split $T$ into two right triangles. Let $b_1$ and $b_2$ denote the diagonals associated to angles $\\alpha_i$ and $\\beta_i$, respectively. Then\n",
    "$$\n",
    "    \\cot\\alpha_i + \\cot\\beta_i\n",
    "    = \\frac{b_1 \\cos\\alpha_i}{h} + \\frac{b_2\\cos\\beta_i}{h} \n",
    "    = \\frac{b}{h}.\n",
    "$$\n",
    "\n",
    "Let $N(j)$ denote the neighbors of $j$. Now the expression for $\\mathbf{U}$ reads\n",
    "$$\n",
    "\\begin{aligned}\n",
    "    \\mathbf{U}_{j} \n",
    "    &= \n",
    "    \\sum_{i\\in N(j)} u_i\n",
    "    \\left(\n",
    "        \\frac{1}{2} \\cot(\\theta_{ij})\n",
    "        +\n",
    "        \\frac{1}{2} \\cot(\\theta_{ij}')\n",
    "    \\right)\n",
    "    -\n",
    "    \\sum_{T\\colon j\\in T} u_j\n",
    "        \\frac{1}{2} (\\cot_j \\alpha + \\cot \\beta_j)\n",
    "    \\\\&=\n",
    "    \\frac{1}{2} \\left(\n",
    "        \\sum_{i\\in N(j)} u_i \n",
    "        \\left( \\cot(\\theta_{ij}) + \\cot(\\theta_{ij}')\\right)\n",
    "    -\n",
    "    u_j \\sum_{\\theta \\textrm{ opposite to } j} \\cot\\theta\n",
    "    \\right)\n",
    "    \\\\&=\n",
    "    \\frac{1}{2} \\left(\n",
    "        \\sum_{i\\in N(j)} u_i \n",
    "        \\left( \\cot(\\theta_{ij}) + \\cot(\\theta_{ij}')\\right)\n",
    "    -\n",
    "    u_j \\sum_{i\\in N(j)} \\left( \\cot(\\theta_{ij}) + \\cot(\\theta_{ij}')\\right)\n",
    "    \\right)\n",
    "    \\\\&=\n",
    "    \\frac{1}{2} \\sum_{i\\in N(j)} \\left( \\cot(\\theta_{ij}) + \\cot(\\theta_{ij}')\\right) (u_i - u_j)\n",
    "\\end{aligned}\n",
    "$$\n",
    "where $\\theta_{ij}$ and $\\theta_{ij}'$ in each sum being the angle opposite to edge $ij$ in each triangle.\n",
    "\n",
    "We have arrived to the famous cotan formula.\n",
    "\n",
    "## Matrix form\n",
    "\n",
    "In order to perform computations effiently, we'll rewrite $\\mathbf{U} = \\mathbf{L}\\vec{u}$, for a matrix $\\mathbf{L}$. So that $\\mathbf{L} \\approx \\Delta$.\n",
    "\n",
    "From the equation defining $\\mathbf{U}$ we get that\n",
    "$$\n",
    "    2 \\mathbf{L}_{ij}\n",
    "    =\n",
    "    \\begin{cases}\n",
    "        \\cot(\\theta_{ij}) + \\cot(\\theta_{ij}') &, \\textrm{ if } i\\ne j\\\\\n",
    "        -\\sum_{k=0, k\\ne j}^{\\lvert{K}\\rvert} L_{ik} &, \\textrm{ if } i=j\n",
    "    \\end{cases}.\n",
    "$$\n",
    "\n",
    "### Extra: Computing $\\cot$\n",
    "\n",
    "Let $x$ and $y$ be the vectors whose angle is $\\theta$. Then, $\\frac{x\\cdot y}{\\|x\\times y\\|} = \\cot(\\theta)$."
   ]
  },
  {
   "cell_type": "code",
   "execution_count": 1,
   "id": "c257d46f-3042-45e8-8d0b-2996aec72af3",
   "metadata": {
    "tags": []
   },
   "outputs": [],
   "source": [
    "from scipy.sparse import lil_matrix\n",
    "import numpy as np\n",
    "\n",
    "def laplace_matrix(nodes: list, triangles: list) -> (lil_matrix, lil_matrix):\n",
    "    '''\n",
    "    Input:\n",
    "        - nodes : [#nodes]x[3]. nodes[i] contains the cartesian coordinates of the ith node.\n",
    "        - triangles :[#triangles]x[3]. triangles[i] contains the indexes of the vertices of the ith triangle.\n",
    "    Output:\n",
    "        - the cotan-Laplace matrix in lil_matrix format.\n",
    "        - the mass matrix\n",
    "    '''\n",
    "    N = len(nodes)\n",
    "    L = lil_matrix((N,N), dtype=np.float32)\n",
    "    M = lil_matrix((N,N), dtype=np.float32)\n",
    "    \n",
    "    # Fill non diagonals\n",
    "    for T in triangles:\n",
    "        # Fill cotan matrix\n",
    "        i, j, k = T\n",
    "        x, y, z = nodes[T]\n",
    "        \n",
    "        # Relative vectors\n",
    "        ie1 = y-x; ie2 = z-x\n",
    "        je1 = z-y; je2 = x-y\n",
    "        ke1 = x-z; ke2 = y-z\n",
    "\n",
    "        # Mass matrix\n",
    "        area = np.linalg.norm(np.cross(ie1, ie2))\n",
    "        M[i,i] += area\n",
    "        M[k,k] += area\n",
    "        M[j,j] += area\n",
    "\n",
    "        # Compute cotangents\n",
    "        cot_i = abs(np.dot(ie1, ie2)) / np.linalg.norm(np.cross(ie1, ie2))\n",
    "        cot_j = abs(np.dot(je1, je2)) / np.linalg.norm(np.cross(je1, je2))\n",
    "        cot_k = abs(np.dot(ke1, ke2)) / np.linalg.norm(np.cross(ke1, ke2))\n",
    "        \n",
    "        L[i,j] += cot_k; L[j,i] += cot_k\n",
    "        L[i,k] += cot_j; L[k,i] += cot_j\n",
    "        L[j,k] += cot_i; L[k,j] += cot_i\n",
    "    \n",
    "    # Fill diagonals\n",
    "    for i in range(N):\n",
    "        L[i, i] = -sum([L[i,j] for j in range(N)])\n",
    "    \n",
    "    return L/2, M/6"
   ]
  },
  {
   "cell_type": "markdown",
   "id": "583d495e-0770-40c4-bb50-92ec122067b8",
   "metadata": {},
   "source": [
    "# Example"
   ]
  },
  {
   "cell_type": "code",
   "execution_count": 2,
   "id": "fa13358a-2f82-40b7-a863-150c8f26a948",
   "metadata": {
    "tags": []
   },
   "outputs": [],
   "source": [
    "import pyvista as pv\n",
    "pv.set_jupyter_backend('trame')\n",
    "\n",
    "import numpy as np\n",
    "from scipy.sparse import lil_matrix, identity\n",
    "import scipy.sparse.linalg as spla\n",
    "\n",
    "import matplotlib.pyplot as plt"
   ]
  },
  {
   "cell_type": "code",
   "execution_count": 3,
   "id": "9947fe45-0993-4e6c-baca-359a396f3cfc",
   "metadata": {
    "scrolled": true,
    "tags": []
   },
   "outputs": [],
   "source": [
    "def save(filename, mesh, **kwargs):\n",
    "    pl = pv.Plotter()\n",
    "    pl.add_mesh(mesh, **kwargs)\n",
    "    pl.save_graphic(filename)\n",
    "    return pl"
   ]
  },
  {
   "cell_type": "code",
   "execution_count": 4,
   "id": "ea892f14-7823-49c7-a65b-46e46de25110",
   "metadata": {
    "tags": []
   },
   "outputs": [
    {
     "name": "stdout",
     "output_type": "stream",
     "text": [
      "# Nodes  : (1845, 3)\n",
      "# Faces  : (3686, 3)\n"
     ]
    }
   ],
   "source": [
    "MAX_FACES = 15_000\n",
    "\n",
    "#  Mesh from https://www.thingiverse.com/thing:6703649/files\n",
    "mesh = pv.PolyData('resources/3D_models/blue_whale/files/ballena_azul_Lowpoly.stl')\n",
    "\n",
    "num_faces = len(mesh.faces) // 4\n",
    "\n",
    "if num_faces > MAX_FACES:\n",
    "    mesh = mesh.decimate(1.0 - (MAX_FACES / num_faces))\n",
    "    print('Decimated mesh, from ', num_faces, 'faces to', len(mesh.faces)//4, 'faces')\n",
    "\n",
    "nodes = mesh.points\n",
    "triangles = np.delete(mesh.faces.reshape(-1, 4), 0, 1)\n",
    "\n",
    "print('# Nodes  :', nodes.shape)\n",
    "print('# Faces  :', triangles.shape)"
   ]
  },
  {
   "cell_type": "code",
   "execution_count": 5,
   "id": "1e3095d0-8ea0-4fbf-b08f-49b806e4a156",
   "metadata": {},
   "outputs": [],
   "source": [
    "save('images/discrete_laplacian_mesh.svg', mesh);"
   ]
  },
  {
   "cell_type": "markdown",
   "id": "1d3a5993-a8bf-4473-ab4b-8b8e30ccd4a1",
   "metadata": {},
   "source": [
    "<img src=\"images/discrete_laplacian_mesh.svg\"></img>"
   ]
  },
  {
   "cell_type": "code",
   "execution_count": 6,
   "id": "6c57702c-e116-4241-9add-469f1b5a86d3",
   "metadata": {
    "tags": []
   },
   "outputs": [],
   "source": [
    "L, M = laplace_matrix(nodes, triangles)"
   ]
  },
  {
   "cell_type": "code",
   "execution_count": 7,
   "id": "d1cd2329-b3fd-40ff-b623-8a146b0e3e70",
   "metadata": {
    "tags": []
   },
   "outputs": [],
   "source": [
    "from random import sample\n",
    "\n",
    "default_cmap = plt.get_cmap('seismic')\n",
    "\n",
    "source_indices = [np.argmax(nodes[:, 0]), np.argmax(nodes[:, 1] + nodes[:, 0])]\n",
    "source_field = np.zeros(len(nodes))\n",
    "source_field[source_indices] = [(-1)**i/len(source_indices) for i in range(len(source_indices))]\n",
    "\n",
    "vmax = np.max(source_field)\n",
    "vmin = np.min(source_field)"
   ]
  },
  {
   "cell_type": "code",
   "execution_count": 8,
   "id": "1e31c6fb-3a27-49dd-8e8d-57464001e511",
   "metadata": {},
   "outputs": [],
   "source": [
    "save('images/discrete_laplacian_heat_source.svg', mesh, scalars=source_field, clim=[vmin, vmax], cmap=default_cmap);\n",
    "#  mesh.plot(scalars=source_field, clim=[vmin, vmax], cmap=default_cmap)"
   ]
  },
  {
   "cell_type": "markdown",
   "id": "0cf16abc-c1f5-4ac9-b366-80d8c9bc9357",
   "metadata": {},
   "source": [
    "<img src=\"images/discrete_laplacian_heat_source.svg\"></img>"
   ]
  },
  {
   "cell_type": "code",
   "execution_count": 9,
   "id": "3310fabe-9ab1-46b0-97ad-0ea680b50194",
   "metadata": {
    "tags": []
   },
   "outputs": [],
   "source": [
    "steady_heat = -spla.spsolve(L.tocsr(), source_field)"
   ]
  },
  {
   "cell_type": "code",
   "execution_count": 10,
   "id": "8fc0e2db-4462-418d-ad20-1dfd5910676f",
   "metadata": {
    "scrolled": true,
    "tags": []
   },
   "outputs": [],
   "source": [
    "save('images/discrete_laplacian_steady_heat.svg', mesh, scalars=steady_heat, cmap=default_cmap, show_scalar_bar=True);\n",
    "# mesh.plot(scalars=steady_heat, cmap=default_cmap, show_scalar_bar=True)"
   ]
  },
  {
   "cell_type": "markdown",
   "id": "180eea07-da9e-40c1-b883-ac39531839b7",
   "metadata": {},
   "source": [
    "<img src=\"images/discrete_laplacian_steady_heat.svg\"></img>"
   ]
  },
  {
   "cell_type": "markdown",
   "id": "4e7c642c-1611-4e73-bda5-0ae30bc43fe4",
   "metadata": {},
   "source": [
    "# References\n",
    "\n",
    "* Crane, K., 2018. Discrete differential geometry: An applied introduction. Notices of the AMS, Communication, 1153. Available at: https://www.cs.cmu.edu/~kmcrane/Projects/DDG/ (Accessed: 9 May 2025)."
   ]
  },
  {
   "cell_type": "code",
   "execution_count": null,
   "id": "d550adbc-085e-4d78-8d7b-948600910a3b",
   "metadata": {},
   "outputs": [],
   "source": []
  }
 ],
 "metadata": {
  "kernelspec": {
   "display_name": "Python 3 (ipykernel)",
   "language": "python",
   "name": "python3"
  },
  "language_info": {
   "codemirror_mode": {
    "name": "ipython",
    "version": 3
   },
   "file_extension": ".py",
   "mimetype": "text/x-python",
   "name": "python",
   "nbconvert_exporter": "python",
   "pygments_lexer": "ipython3",
   "version": "3.12.7"
  }
 },
 "nbformat": 4,
 "nbformat_minor": 5
}
